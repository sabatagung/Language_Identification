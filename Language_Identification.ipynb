{
  "nbformat": 4,
  "nbformat_minor": 0,
  "metadata": {
    "colab": {
      "name": "Language Identification.ipynb",
      "provenance": []
    },
    "kernelspec": {
      "name": "python3",
      "display_name": "Python 3"
    },
    "language_info": {
      "name": "python"
    }
  },
  "cells": [
    {
      "cell_type": "markdown",
      "source": [
        "# Language Identification and Classifications\n",
        "\n",
        "> Classification dengan RidgeClassifier\n",
        "\n",
        "> Classification dengan DecisionTreeClassifier\n",
        "\n",
        "> Classification dengan KNeighborsClassifier\n",
        "\n",
        "\n",
        "\n",
        "\n",
        "\n",
        "\n",
        "\n"
      ],
      "metadata": {
        "id": "AVJqd8MbzP8d"
      }
    },
    {
      "cell_type": "code",
      "source": [
        "#Import to ML (scikit-learn), Data (Pandas) and Math (NumPy) Libraries\n",
        "import pandas as pd\n",
        "import numpy as np\n",
        "from sklearn.model_selection import train_test_split\n",
        "from sklearn.feature_extraction.text import CountVectorizer, TfidfTransformer"
      ],
      "metadata": {
        "id": "RowQ9noKqiwW"
      },
      "execution_count": 163,
      "outputs": []
    },
    {
      "cell_type": "code",
      "source": [
        "df = pd.read_csv('language_detection.csv')"
      ],
      "metadata": {
        "id": "OCuFB_ONq4uD"
      },
      "execution_count": 164,
      "outputs": []
    },
    {
      "cell_type": "code",
      "source": [
        "df.head(5)"
      ],
      "metadata": {
        "colab": {
          "base_uri": "https://localhost:8080/",
          "height": 206
        },
        "id": "ROTVQ-USrFb7",
        "outputId": "e4c47f26-9c23-49ad-9493-9430136b0c61"
      },
      "execution_count": 165,
      "outputs": [
        {
          "output_type": "execute_result",
          "data": {
            "text/plain": [
              "                                                Text  language\n",
              "0  klement gottwaldi surnukeha palsameeriti ning ...  Estonian\n",
              "1  sebes joseph pereira thomas  på eng the jesuit...   Swedish\n",
              "2  ถนนเจริญกรุง อักษรโรมัน thanon charoen krung เ...      Thai\n",
              "3  விசாகப்பட்டினம் தமிழ்ச்சங்கத்தை இந்துப் பத்திர...     Tamil\n",
              "4  de spons behoort tot het geslacht haliclona en...     Dutch"
            ],
            "text/html": [
              "\n",
              "  <div id=\"df-b5eb4cfc-401f-411c-8a71-d9e9332d36fe\">\n",
              "    <div class=\"colab-df-container\">\n",
              "      <div>\n",
              "<style scoped>\n",
              "    .dataframe tbody tr th:only-of-type {\n",
              "        vertical-align: middle;\n",
              "    }\n",
              "\n",
              "    .dataframe tbody tr th {\n",
              "        vertical-align: top;\n",
              "    }\n",
              "\n",
              "    .dataframe thead th {\n",
              "        text-align: right;\n",
              "    }\n",
              "</style>\n",
              "<table border=\"1\" class=\"dataframe\">\n",
              "  <thead>\n",
              "    <tr style=\"text-align: right;\">\n",
              "      <th></th>\n",
              "      <th>Text</th>\n",
              "      <th>language</th>\n",
              "    </tr>\n",
              "  </thead>\n",
              "  <tbody>\n",
              "    <tr>\n",
              "      <th>0</th>\n",
              "      <td>klement gottwaldi surnukeha palsameeriti ning ...</td>\n",
              "      <td>Estonian</td>\n",
              "    </tr>\n",
              "    <tr>\n",
              "      <th>1</th>\n",
              "      <td>sebes joseph pereira thomas  på eng the jesuit...</td>\n",
              "      <td>Swedish</td>\n",
              "    </tr>\n",
              "    <tr>\n",
              "      <th>2</th>\n",
              "      <td>ถนนเจริญกรุง อักษรโรมัน thanon charoen krung เ...</td>\n",
              "      <td>Thai</td>\n",
              "    </tr>\n",
              "    <tr>\n",
              "      <th>3</th>\n",
              "      <td>விசாகப்பட்டினம் தமிழ்ச்சங்கத்தை இந்துப் பத்திர...</td>\n",
              "      <td>Tamil</td>\n",
              "    </tr>\n",
              "    <tr>\n",
              "      <th>4</th>\n",
              "      <td>de spons behoort tot het geslacht haliclona en...</td>\n",
              "      <td>Dutch</td>\n",
              "    </tr>\n",
              "  </tbody>\n",
              "</table>\n",
              "</div>\n",
              "      <button class=\"colab-df-convert\" onclick=\"convertToInteractive('df-b5eb4cfc-401f-411c-8a71-d9e9332d36fe')\"\n",
              "              title=\"Convert this dataframe to an interactive table.\"\n",
              "              style=\"display:none;\">\n",
              "        \n",
              "  <svg xmlns=\"http://www.w3.org/2000/svg\" height=\"24px\"viewBox=\"0 0 24 24\"\n",
              "       width=\"24px\">\n",
              "    <path d=\"M0 0h24v24H0V0z\" fill=\"none\"/>\n",
              "    <path d=\"M18.56 5.44l.94 2.06.94-2.06 2.06-.94-2.06-.94-.94-2.06-.94 2.06-2.06.94zm-11 1L8.5 8.5l.94-2.06 2.06-.94-2.06-.94L8.5 2.5l-.94 2.06-2.06.94zm10 10l.94 2.06.94-2.06 2.06-.94-2.06-.94-.94-2.06-.94 2.06-2.06.94z\"/><path d=\"M17.41 7.96l-1.37-1.37c-.4-.4-.92-.59-1.43-.59-.52 0-1.04.2-1.43.59L10.3 9.45l-7.72 7.72c-.78.78-.78 2.05 0 2.83L4 21.41c.39.39.9.59 1.41.59.51 0 1.02-.2 1.41-.59l7.78-7.78 2.81-2.81c.8-.78.8-2.07 0-2.86zM5.41 20L4 18.59l7.72-7.72 1.47 1.35L5.41 20z\"/>\n",
              "  </svg>\n",
              "      </button>\n",
              "      \n",
              "  <style>\n",
              "    .colab-df-container {\n",
              "      display:flex;\n",
              "      flex-wrap:wrap;\n",
              "      gap: 12px;\n",
              "    }\n",
              "\n",
              "    .colab-df-convert {\n",
              "      background-color: #E8F0FE;\n",
              "      border: none;\n",
              "      border-radius: 50%;\n",
              "      cursor: pointer;\n",
              "      display: none;\n",
              "      fill: #1967D2;\n",
              "      height: 32px;\n",
              "      padding: 0 0 0 0;\n",
              "      width: 32px;\n",
              "    }\n",
              "\n",
              "    .colab-df-convert:hover {\n",
              "      background-color: #E2EBFA;\n",
              "      box-shadow: 0px 1px 2px rgba(60, 64, 67, 0.3), 0px 1px 3px 1px rgba(60, 64, 67, 0.15);\n",
              "      fill: #174EA6;\n",
              "    }\n",
              "\n",
              "    [theme=dark] .colab-df-convert {\n",
              "      background-color: #3B4455;\n",
              "      fill: #D2E3FC;\n",
              "    }\n",
              "\n",
              "    [theme=dark] .colab-df-convert:hover {\n",
              "      background-color: #434B5C;\n",
              "      box-shadow: 0px 1px 3px 1px rgba(0, 0, 0, 0.15);\n",
              "      filter: drop-shadow(0px 1px 2px rgba(0, 0, 0, 0.3));\n",
              "      fill: #FFFFFF;\n",
              "    }\n",
              "  </style>\n",
              "\n",
              "      <script>\n",
              "        const buttonEl =\n",
              "          document.querySelector('#df-b5eb4cfc-401f-411c-8a71-d9e9332d36fe button.colab-df-convert');\n",
              "        buttonEl.style.display =\n",
              "          google.colab.kernel.accessAllowed ? 'block' : 'none';\n",
              "\n",
              "        async function convertToInteractive(key) {\n",
              "          const element = document.querySelector('#df-b5eb4cfc-401f-411c-8a71-d9e9332d36fe');\n",
              "          const dataTable =\n",
              "            await google.colab.kernel.invokeFunction('convertToInteractive',\n",
              "                                                     [key], {});\n",
              "          if (!dataTable) return;\n",
              "\n",
              "          const docLinkHtml = 'Like what you see? Visit the ' +\n",
              "            '<a target=\"_blank\" href=https://colab.research.google.com/notebooks/data_table.ipynb>data table notebook</a>'\n",
              "            + ' to learn more about interactive tables.';\n",
              "          element.innerHTML = '';\n",
              "          dataTable['output_type'] = 'display_data';\n",
              "          await google.colab.output.renderOutput(dataTable, element);\n",
              "          const docLink = document.createElement('div');\n",
              "          docLink.innerHTML = docLinkHtml;\n",
              "          element.appendChild(docLink);\n",
              "        }\n",
              "      </script>\n",
              "    </div>\n",
              "  </div>\n",
              "  "
            ]
          },
          "metadata": {},
          "execution_count": 165
        }
      ]
    },
    {
      "cell_type": "code",
      "source": [
        "df.columns"
      ],
      "metadata": {
        "colab": {
          "base_uri": "https://localhost:8080/"
        },
        "id": "OlKV4L0UrMvI",
        "outputId": "acf99de9-f23f-4c00-a452-8824798df0eb"
      },
      "execution_count": 166,
      "outputs": [
        {
          "output_type": "execute_result",
          "data": {
            "text/plain": [
              "Index(['Text', 'language'], dtype='object')"
            ]
          },
          "metadata": {},
          "execution_count": 166
        }
      ]
    },
    {
      "cell_type": "code",
      "source": [
        "df.keys()"
      ],
      "metadata": {
        "colab": {
          "base_uri": "https://localhost:8080/"
        },
        "id": "NfKDwp3huH4T",
        "outputId": "e197c904-0d78-4e7e-a72b-d7a29a88dc11"
      },
      "execution_count": 167,
      "outputs": [
        {
          "output_type": "execute_result",
          "data": {
            "text/plain": [
              "Index(['Text', 'language'], dtype='object')"
            ]
          },
          "metadata": {},
          "execution_count": 167
        }
      ]
    },
    {
      "cell_type": "code",
      "source": [
        "df[\"language\"].value_counts()"
      ],
      "metadata": {
        "colab": {
          "base_uri": "https://localhost:8080/"
        },
        "id": "SSQkVL-kuXaL",
        "outputId": "affe9e18-1740-4f0d-8319-53e849b2d891"
      },
      "execution_count": 168,
      "outputs": [
        {
          "output_type": "execute_result",
          "data": {
            "text/plain": [
              "Estonian      1000\n",
              "Swedish       1000\n",
              "English       1000\n",
              "Russian       1000\n",
              "Romanian      1000\n",
              "Persian       1000\n",
              "Pushto        1000\n",
              "Spanish       1000\n",
              "Hindi         1000\n",
              "Korean        1000\n",
              "Chinese       1000\n",
              "French        1000\n",
              "Portugese     1000\n",
              "Indonesian    1000\n",
              "Urdu          1000\n",
              "Latin         1000\n",
              "Turkish       1000\n",
              "Japanese      1000\n",
              "Dutch         1000\n",
              "Tamil         1000\n",
              "Thai          1000\n",
              "Arabic        1000\n",
              "Name: language, dtype: int64"
            ]
          },
          "metadata": {},
          "execution_count": 168
        }
      ]
    },
    {
      "cell_type": "code",
      "source": [
        "df[\"Text\"].value_counts()"
      ],
      "metadata": {
        "colab": {
          "base_uri": "https://localhost:8080/"
        },
        "id": "FQTwwq_nv2ql",
        "outputId": "efcd4ca7-ded3-4c35-88ca-28c4bf4ccb90"
      },
      "execution_count": 169,
      "outputs": [
        {
          "output_type": "execute_result",
          "data": {
            "text/plain": [
              "haec commentatio automatice praeparata res astronomicas colligit excerptas e pagina [] sitús small-body database quem elaboraverunt nasa et jpl apud institutum technologiae californiense                                                                                                                                                                                                                                                                                                                                                                                                                                                                                                                                                                                                                                                                                                                                                                                    48\n",
              "இக்கோயில் முதன்மைத் திருக்கோயில் என்ற வகைப்பாட்டில் இந்து அறநிலையத்துறையின் கட்டுப்பாட்டில் உள்ளது பரம்பரை அல்லாத அறங்காவலர் அமைப்பால் நிர்வகிக்கப்படுகிறது                                                                                                                                                                                                                                                                                                                                                                                                                                                                                                                                                                                                                                                                                                                                                                                                                   17\n",
              "bisby fa roskov yr orrell tm nicolson d paglinawan le bailly n kirk pm bourgoin t baillargeon g ouvrard d red  \"species   itis catalogue of life  annual checklist\" species  reading uk diakses pada  september                                                                                                                                                                                                                                                                                                                                                                                                                                                                                                                                                                                                                                                                                                                                                               12\n",
              "seperti asteroid pada umumnya asteroid ini terbentuk dari nebula matahari primordial sebagai pecahan planetisimal sesuatu di nebula matahari muda yang tidak cukup besar untuk berubah menjadi planet                                                                                                                                                                                                                                                                                                                                                                                                                                                                                                                                                                                                                                                                                                                                                                          7\n",
              "lévolution du nombre dhabitants est connue à travers les recensements de la population effectués dans la commune depuis  à partir de  les populations légales des communes sont publiées annuellement par linsee le recensement repose désormais sur une collecte dinformation annuelle concernant successivement tous les territoires communaux au cours dune période de cinq ans pour les communes de moins de   habitants une enquête de recensement portant sur toute la population est réalisée tous les cinq ans les populations légales des années intermédiaires étant quant à elles estimées par interpolation ou extrapolation pour la commune le premier recensement exhaustif entrant dans le cadre du nouveau dispositif a été réalisé en                                                                                                                                                                                                                         7\n",
              "                                                                                                                                                                                                                                                                                                                                                                                                                                                                                                                                                                                                                                                                                                                                                                                                                                                                                                                                                                              ..\n",
              "in  zette hij het project swiss piano op waarin pianowerk van hedendaagse zwitserse componisten uitgevoerd wordt het project resulteerde onder andere in een cd met nieuw aan wong opgedragen werk van daniel füter hans ulrich lehmann laurent mettraux isabel mundry jürg wyttenbach gérard zinsstag en alfred zimmerlin                                                                                                                                                                                                                                                                                                                                                                                                                                                                                                                                                                                                                                                     1\n",
              "nacido en duisburgo alemania caninenberg estudió en los primeros años  en la folkwang universität der künste de essen y tras graduarse actuó por vez primera en teatros de krefeld gießen y wuppertal tras servir durante la segunda guerra mundial hubo de cumplir cautiverio y en  retomó su carrera artística de vuelta en wuppertal colaboró en la reconstrucción teatral y en  fue a trabajar a la ópera estatal de stuttgart en  fue contratado por el prestigioso actor y director hans schweikart para actuar en el teatro de cámara de múnich pero pronto se trasladó a düsseldorf boleslaw barlog contó con él para actuar en el staatlichen berliner bühnen y en fráncfort del meno actuó junto a lola müthel con la que se casó en                                                                                                                                                                                                                                 1\n",
              "بچوں کی سائنس میں آسان مقالہ  انسانی دماغ* یہ مضمون عمومی طور پر دماغ کے بارے میں ہے۔ بالخصوص انسانی دماغ کے بارے میں دیکھیےدماغ انسانیدماغ دراصل مرکزی عصبی نظام کا ایک ایسا حصہ ہوتا ہے جسمیں عصبی نظام کے تمام اعلیٰ مراکز پائے جاتے ہیں۔ اکثر جانداروں میں دماغ سر میں موجود ایک ہڈی کے صندوق میں محفوظ ہوتا ہے جسے کاسہ سر یا کھوپڑی کہتے ہیں اور چار بنیادی حسیں بصارت سماعت ذائقہ اور سونگھنا اسکے بالکل قرب و جوار میں ملتی ہیں۔ فقاریہ جانداروں مثلا انسان کے عصبی نظام میں تو دماغ پایاجاتا ہے مگر غیرفقاریہ جانداروں میں عصبی نظام دراصل عصبی عقدوں یا یوں کہـ لیں کہ عصبی خلیات کی چھوٹی چھوٹی گرھوں پر مشتمل ہوتا ہے۔ دماغ ایک انتہائی پیچیدہ عضو ہے اس بات کا اندازا یوں لگایا جاسکتا ہے کہ ایک دماغ میں تقریباًً  ارب  ایک کھرب خلیات پائے جاتے ہیں یہاں یہ بات واضع رہے کہ یہ صرف ان خلیات کی تعداد ہے جنکو عصبون یا neuron کہا جاتا ہے۔ اور پھر ان  ارب خلیات میں سے بھی ہر ایک  عصبی تاروں یا ریشوں کے ذریعہ تقریباً  دیگر خلیات کے ساتھ رابطے بناتا ہے۔     1\n",
              "바그너의 행운은 년에 바이에른 왕국의 루트비히 세가 나이 세로 즉위하자 극적인 계기를 맞았다 젊은 왕은 어린 시절부터 바그너의 오페라의 열렬한 숭배자였기에 작곡가를 뮌헨으로 데려왔다 그는 바그너의 상당한 빚을 해결해 주었고 그의 새 오페라가 상연될 계획을 세웠다 리허설에서의 각고의 어려움 끝에 트리스탄과 이졸데는 뮌헨 왕립 극장에서 년 월 일에 큰 성공을 거두며 초연되었다                                                                                                                                                                                                                                                                                                                                                                                                                                                                                                                                                                                                                                                                                                                                                              1\n",
              " aprilie sonda spațială messenger a nasa și-a încheiat misiunea de studiu de  ani prăbușindu-se pe suprafața planetei mercur sonda a rămas fără combustibil fiind împinsă de gravitația solară din ce în ce mai aproape de mercur                                                                                                                                                                                                                                                                                                                                                                                                                                                                                                                                                                                                                                                                                                                                              1\n",
              "Name: Text, Length: 21859, dtype: int64"
            ]
          },
          "metadata": {},
          "execution_count": 169
        }
      ]
    },
    {
      "cell_type": "markdown",
      "source": [
        "# Process\n",
        "* Import to ML (scikit-learn) Libraries\n",
        "* Data Preprocessing\n",
        "* NLP system entegrating to Data\n",
        "* Model Creating\n"
      ],
      "metadata": {
        "id": "kp0TyVZZ19vy"
      }
    },
    {
      "cell_type": "code",
      "source": [
        "#Explanantory Variables (Features)\n",
        "# X.shape\n",
        "x = df.Text\n",
        "x"
      ],
      "metadata": {
        "colab": {
          "base_uri": "https://localhost:8080/"
        },
        "id": "iwT-Ixrjv6fw",
        "outputId": "de61a0e6-e3a5-4d33-ef84-f7aae080f156"
      },
      "execution_count": 170,
      "outputs": [
        {
          "output_type": "execute_result",
          "data": {
            "text/plain": [
              "0        klement gottwaldi surnukeha palsameeriti ning ...\n",
              "1        sebes joseph pereira thomas  på eng the jesuit...\n",
              "2        ถนนเจริญกรุง อักษรโรมัน thanon charoen krung เ...\n",
              "3        விசாகப்பட்டினம் தமிழ்ச்சங்கத்தை இந்துப் பத்திர...\n",
              "4        de spons behoort tot het geslacht haliclona en...\n",
              "                               ...                        \n",
              "21995    hors du terrain les années  et  sont des année...\n",
              "21996    ใน พศ  หลักจากที่เสด็จประพาสแหลมมลายู ชวา อินเ...\n",
              "21997    con motivo de la celebración del septuagésimoq...\n",
              "21998    年月，當時還只有歲的她在美國出道，以mai-k名義推出首張英文《baby i like》，由...\n",
              "21999     aprilie sonda spațială messenger a nasa și-a ...\n",
              "Name: Text, Length: 22000, dtype: object"
            ]
          },
          "metadata": {},
          "execution_count": 170
        }
      ]
    },
    {
      "cell_type": "code",
      "source": [
        "#Respone Variable (Target)\n",
        "y = df.language\n",
        "y.shape\n",
        "#y"
      ],
      "metadata": {
        "colab": {
          "base_uri": "https://localhost:8080/"
        },
        "id": "Kfr5zbzKwvwZ",
        "outputId": "89a63dd8-0941-493b-f7a3-45799a2124c5"
      },
      "execution_count": 171,
      "outputs": [
        {
          "output_type": "execute_result",
          "data": {
            "text/plain": [
              "(22000,)"
            ]
          },
          "metadata": {},
          "execution_count": 171
        }
      ]
    },
    {
      "cell_type": "code",
      "source": [
        "#Import to ML (scikit-learn) Libraries\n",
        "#RidgeClassifier\n",
        "from sklearn.linear_model import RidgeClassifier \n",
        "\n",
        "#Data Preprocessing\n",
        "X_train, X_test, y_train, y_test = train_test_split(df.Text, \n",
        "                                                    df.language,\n",
        "                                                    test_size=0.36,\n",
        "                                                    random_state=2551,\n",
        "                                                    shuffle=True)"
      ],
      "metadata": {
        "id": "L4FMvpd50jSI"
      },
      "execution_count": 172,
      "outputs": []
    },
    {
      "cell_type": "markdown",
      "source": [
        "# Training & Testing Dataset\n"
      ],
      "metadata": {
        "id": "ht8YdQH_HS2J"
      }
    },
    {
      "cell_type": "code",
      "source": [
        "print(f'x train: {X_train.shape}')\n",
        "print(f'x test: {X_test.shape}')\n",
        "print(f'y train: {y_train.shape}')\n",
        "print(f'y test: {y_test.shape}')"
      ],
      "metadata": {
        "colab": {
          "base_uri": "https://localhost:8080/"
        },
        "id": "apP5n1SEGcXj",
        "outputId": "5d2ee02c-f0b5-461b-a81c-4e018e4e0bc5"
      },
      "execution_count": 173,
      "outputs": [
        {
          "output_type": "stream",
          "name": "stdout",
          "text": [
            "x train: (14080,)\n",
            "x test: (7920,)\n",
            "y train: (14080,)\n",
            "y test: (7920,)\n"
          ]
        }
      ]
    },
    {
      "cell_type": "code",
      "source": [
        "#NLP system entegration to Data    \n",
        "X_CountVectorizer = CountVectorizer(stop_words='english')\n",
        "\n",
        "X_train_counts = X_CountVectorizer.fit_transform(X_train)\n",
        "\n",
        "X_TfidfTransformer = TfidfTransformer()\n",
        "\n",
        "X_train_tfidf = X_TfidfTransformer.fit_transform(X_train_counts)"
      ],
      "metadata": {
        "id": "NVdgPlb11P6j"
      },
      "execution_count": 174,
      "outputs": []
    },
    {
      "cell_type": "markdown",
      "source": [
        ""
      ],
      "metadata": {
        "id": "AGJ-CWBYv0mH"
      }
    },
    {
      "cell_type": "markdown",
      "source": [
        "# RidgeClassifier dengan Scikit Learn\n",
        "\n",
        "---\n",
        "\n"
      ],
      "metadata": {
        "id": "qykf4kYGQjjR"
      }
    },
    {
      "cell_type": "code",
      "source": [
        "#Model Creating\n",
        "model = RidgeClassifier()\n",
        "\n",
        "model.fit(X_train_tfidf, y_train)"
      ],
      "metadata": {
        "colab": {
          "base_uri": "https://localhost:8080/"
        },
        "id": "EkI4lcreHORj",
        "outputId": "6c0cd9a7-979d-4a6e-ecf6-fe2f367b84c6"
      },
      "execution_count": 175,
      "outputs": [
        {
          "output_type": "execute_result",
          "data": {
            "text/plain": [
              "RidgeClassifier()"
            ]
          },
          "metadata": {},
          "execution_count": 175
        }
      ]
    },
    {
      "cell_type": "markdown",
      "source": [
        "### *Model Accuracy Score*"
      ],
      "metadata": {
        "id": "8mdwotGkHp2B"
      }
    },
    {
      "cell_type": "code",
      "source": [
        "model.score(X_CountVectorizer.transform(X_test),y_test)"
      ],
      "metadata": {
        "colab": {
          "base_uri": "https://localhost:8080/"
        },
        "id": "1PLUFOAfHwD6",
        "outputId": "6fc4698c-7a34-404c-9bd6-944a5c711931"
      },
      "execution_count": 176,
      "outputs": [
        {
          "output_type": "execute_result",
          "data": {
            "text/plain": [
              "0.9643939393939394"
            ]
          },
          "metadata": {},
          "execution_count": 176
        }
      ]
    },
    {
      "cell_type": "code",
      "source": [
        "import time\n",
        "start = time.process_time() \n",
        "model.fit(X_train_tfidf, y_train)   \n",
        "print(\"Time taken to build the model\", time.process_time() - start)"
      ],
      "metadata": {
        "colab": {
          "base_uri": "https://localhost:8080/"
        },
        "id": "R1D-mUtTRAZF",
        "outputId": "00be3f33-1138-433a-eb6b-adfb16db605f"
      },
      "execution_count": 177,
      "outputs": [
        {
          "output_type": "stream",
          "name": "stdout",
          "text": [
            "Time taken to build the model 16.04082083999998\n"
          ]
        }
      ]
    },
    {
      "cell_type": "markdown",
      "source": [
        "### *Prediction*"
      ],
      "metadata": {
        "id": "ERaOfI5yIOvQ"
      }
    },
    {
      "cell_type": "code",
      "source": [
        "#Data of Prediction\n",
        "text = \"\"\"I quite like him. \n",
        "I'm so in love with him and my heart flutters when I see him.\"\"\"\n",
        "\n",
        "text = [text]\n",
        "\n",
        "text_counts = X_CountVectorizer.transform(text)\n",
        "\n",
        "#Prediction Processing\n",
        "prediction = model.predict(text_counts)\n",
        "\n",
        "f\"Prediction is {prediction[0]}\""
      ],
      "metadata": {
        "colab": {
          "base_uri": "https://localhost:8080/",
          "height": 35
        },
        "id": "lbH70BIMIJVC",
        "outputId": "40f67ebe-3e59-4d90-f86f-59b22f14c89d"
      },
      "execution_count": 178,
      "outputs": [
        {
          "output_type": "execute_result",
          "data": {
            "text/plain": [
              "'Prediction is English'"
            ],
            "application/vnd.google.colaboratory.intrinsic+json": {
              "type": "string"
            }
          },
          "metadata": {},
          "execution_count": 178
        }
      ]
    },
    {
      "cell_type": "code",
      "source": [
        "#Data of Prediction\n",
        "text = \"\"\"전형진 기자 지난번에 어디가 또 궁금하냐 이렇게 물어봤더니여기를 요청하는 구독자님들이 많아서 오늘 한 번 다뤄볼게요음.. \n",
        "회사와 가까워서 그냥 대충 한 편 때우려고 그러\"\"\"\n",
        "\n",
        "text = [text]\n",
        "\n",
        "text_counts = X_CountVectorizer.transform(text)\n",
        "\n",
        "#Prediction Processing\n",
        "prediction = model.predict(text_counts)\n",
        "\n",
        "f\"Prediction is {prediction[0]}\""
      ],
      "metadata": {
        "colab": {
          "base_uri": "https://localhost:8080/",
          "height": 35
        },
        "id": "SyKezkE-vtHJ",
        "outputId": "3a515015-ba59-49a1-8f4d-d4ba7681cafa"
      },
      "execution_count": 179,
      "outputs": [
        {
          "output_type": "execute_result",
          "data": {
            "text/plain": [
              "'Prediction is Korean'"
            ],
            "application/vnd.google.colaboratory.intrinsic+json": {
              "type": "string"
            }
          },
          "metadata": {},
          "execution_count": 179
        }
      ]
    },
    {
      "cell_type": "code",
      "source": [
        "#Data of Prediction\n",
        "text = \"\"\"Ternyata, banyak dari aplikasi antivirus ini yang standar keamanan dan privasinya kalah jauh dari aplikasi antivirus serupa untuk desktop. \n",
        "Banyak dari aplikasi antivirus ini yang membawa data tracker dan bahkan link untuk domain yang berpotensi berbahaya.\"\"\"\n",
        "\n",
        "text = [text]\n",
        "\n",
        "text_counts = X_CountVectorizer.transform(text)\n",
        "\n",
        "#Prediction Processing\n",
        "prediction = model.predict(text_counts)\n",
        "\n",
        "f\"Prediction is {prediction[0]}\""
      ],
      "metadata": {
        "colab": {
          "base_uri": "https://localhost:8080/",
          "height": 35
        },
        "id": "gDSOHSAlxQ2i",
        "outputId": "051831b3-9908-49ef-a717-a0efec052d1d"
      },
      "execution_count": 180,
      "outputs": [
        {
          "output_type": "execute_result",
          "data": {
            "text/plain": [
              "'Prediction is Indonesian'"
            ],
            "application/vnd.google.colaboratory.intrinsic+json": {
              "type": "string"
            }
          },
          "metadata": {},
          "execution_count": 180
        }
      ]
    },
    {
      "cell_type": "code",
      "source": [
        "import time\n",
        "start = time.process_time() \n",
        "prediction = model.predict(text_counts)   \n",
        "print(\"Time taken to running the model\", time.process_time() - start)"
      ],
      "metadata": {
        "colab": {
          "base_uri": "https://localhost:8080/"
        },
        "id": "n77VNrktP3oE",
        "outputId": "04fad8b9-4825-4239-a49c-e84331777795"
      },
      "execution_count": 181,
      "outputs": [
        {
          "output_type": "stream",
          "name": "stdout",
          "text": [
            "Time taken to running the model 0.019582830999979706\n"
          ]
        }
      ]
    },
    {
      "cell_type": "markdown",
      "source": [
        "# DecisionTree dengan Scikit Learn\n",
        "\n",
        "---\n",
        "\n"
      ],
      "metadata": {
        "id": "0tyeJG-wRSb5"
      }
    },
    {
      "cell_type": "code",
      "source": [
        "from sklearn.tree import DecisionTreeClassifier\n",
        "from sklearn.metrics import accuracy_score\n",
        "\n",
        "#Data Preprocessing\n",
        "X_train, X_test, y_train, y_test = train_test_split(df.Text, \n",
        "                                                    df.language,\n",
        "                                                    test_size=0.36,\n",
        "                                                    random_state=2551)\n",
        "print(f'X_train shape {X_train.shape}')\n",
        "print(f'X_test shape {X_test.shape}')\n",
        "print(f'y train: {y_train.shape}')\n",
        "print(f'y test: {y_test.shape}')\n"
      ],
      "metadata": {
        "colab": {
          "base_uri": "https://localhost:8080/"
        },
        "id": "u0G8fC3ASYq_",
        "outputId": "bb9ed1ec-e46f-49fa-af21-fabc749e3c93"
      },
      "execution_count": 182,
      "outputs": [
        {
          "output_type": "stream",
          "name": "stdout",
          "text": [
            "X_train shape (14080,)\n",
            "X_test shape (7920,)\n",
            "y train: (14080,)\n",
            "y test: (7920,)\n"
          ]
        }
      ]
    },
    {
      "cell_type": "code",
      "source": [
        "#NLP system entegration to Data    \n",
        "X_CountVectorizer = CountVectorizer(stop_words='english')\n",
        "\n",
        "X_train_counts = X_CountVectorizer.fit_transform(X_train)\n",
        "\n",
        "X_TfidfTransformer = TfidfTransformer()\n",
        "\n",
        "X_train_tfidf = X_TfidfTransformer.fit_transform(X_train_counts)"
      ],
      "metadata": {
        "id": "cgvaaKPVgwbi"
      },
      "execution_count": 183,
      "outputs": []
    },
    {
      "cell_type": "code",
      "source": [
        "model = DecisionTreeClassifier(max_depth=4)\n",
        "model.fit(X_train_tfidf, y_train)\n",
        "\n"
      ],
      "metadata": {
        "colab": {
          "base_uri": "https://localhost:8080/"
        },
        "id": "cT9fbjdvYHhg",
        "outputId": "36c27e61-7ed8-4b57-b005-53507d30ecfc"
      },
      "execution_count": 184,
      "outputs": [
        {
          "output_type": "execute_result",
          "data": {
            "text/plain": [
              "DecisionTreeClassifier(max_depth=4)"
            ]
          },
          "metadata": {},
          "execution_count": 184
        }
      ]
    },
    {
      "cell_type": "code",
      "source": [
        "model.score(X_CountVectorizer.transform(X_test),y_test)"
      ],
      "metadata": {
        "colab": {
          "base_uri": "https://localhost:8080/"
        },
        "id": "q_kaB3n-kD-N",
        "outputId": "19e12726-840b-40bd-e1e9-ceb784857fe6"
      },
      "execution_count": 185,
      "outputs": [
        {
          "output_type": "execute_result",
          "data": {
            "text/plain": [
              "0.1962121212121212"
            ]
          },
          "metadata": {},
          "execution_count": 185
        }
      ]
    },
    {
      "cell_type": "code",
      "source": [
        "import time\n",
        "start = time.process_time() \n",
        "model.fit(X_train_tfidf, y_train)   \n",
        "print(\"Time taken to build the model\", time.process_time() - start)"
      ],
      "metadata": {
        "colab": {
          "base_uri": "https://localhost:8080/"
        },
        "id": "GTYaCiOvnFDO",
        "outputId": "bf2c1de5-388f-4ad8-d690-d5098220d529"
      },
      "execution_count": 186,
      "outputs": [
        {
          "output_type": "stream",
          "name": "stdout",
          "text": [
            "Time taken to build the model 0.7468195719999926\n"
          ]
        }
      ]
    },
    {
      "cell_type": "markdown",
      "source": [
        "# KNeighbors Classifier dengan Scikit Learn"
      ],
      "metadata": {
        "id": "2-IbMiPzhsom"
      }
    },
    {
      "cell_type": "code",
      "source": [
        "#Data Preprocessing\n",
        "X_train, X_test, y_train, y_test = train_test_split(df.Text, \n",
        "                                                    df.language,\n",
        "                                                    test_size=0.36,\n",
        "                                                    random_state=2551)"
      ],
      "metadata": {
        "id": "03mhjsGCcEq4"
      },
      "execution_count": 193,
      "outputs": []
    },
    {
      "cell_type": "code",
      "source": [
        "print(f'x train: {X_train.shape}')\n",
        "print(f'x test: {X_test.shape}')\n",
        "print(f'y train: {y_train.shape}')\n",
        "print(f'y test: {y_test.shape}')"
      ],
      "metadata": {
        "colab": {
          "base_uri": "https://localhost:8080/"
        },
        "id": "nMH9Yjr1emLj",
        "outputId": "4780403a-2547-43f0-da37-de3ec2de77f5"
      },
      "execution_count": 188,
      "outputs": [
        {
          "output_type": "stream",
          "name": "stdout",
          "text": [
            "x train: (14080,)\n",
            "x test: (7920,)\n",
            "y train: (14080,)\n",
            "y test: (7920,)\n"
          ]
        }
      ]
    },
    {
      "cell_type": "code",
      "source": [
        "#NLP system entegration to Data    \n",
        "X_CountVectorizer = CountVectorizer(stop_words='english')\n",
        "\n",
        "X_train_counts = X_CountVectorizer.fit_transform(X_train)\n",
        "\n",
        "X_TfidfTransformer = TfidfTransformer()\n",
        "\n",
        "X_train_tfidf = X_TfidfTransformer.fit_transform(X_train_counts)"
      ],
      "metadata": {
        "id": "QDPuAAoBe7WO"
      },
      "execution_count": 194,
      "outputs": []
    },
    {
      "cell_type": "code",
      "source": [
        "from sklearn.neighbors import KNeighborsClassifier\n",
        "model = KNeighborsClassifier(n_neighbors=3)\n",
        "model.fit(X_train_tfidf, y_train)"
      ],
      "metadata": {
        "colab": {
          "base_uri": "https://localhost:8080/"
        },
        "id": "EUB4mB1QdJlW",
        "outputId": "49e2aedf-e06d-41fd-ffc7-c4b381dc6c97"
      },
      "execution_count": 195,
      "outputs": [
        {
          "output_type": "execute_result",
          "data": {
            "text/plain": [
              "KNeighborsClassifier(n_neighbors=3)"
            ]
          },
          "metadata": {},
          "execution_count": 195
        }
      ]
    },
    {
      "cell_type": "code",
      "source": [
        "model.score(X_CountVectorizer.transform(X_test),y_test)"
      ],
      "metadata": {
        "colab": {
          "base_uri": "https://localhost:8080/"
        },
        "id": "xtQVEumcge-5",
        "outputId": "7da5ee78-0f91-4d16-8fa6-ef44a670bf88"
      },
      "execution_count": 191,
      "outputs": [
        {
          "output_type": "execute_result",
          "data": {
            "text/plain": [
              "0.931060606060606"
            ]
          },
          "metadata": {},
          "execution_count": 191
        }
      ]
    },
    {
      "cell_type": "code",
      "source": [
        "import time\n",
        "start = time.process_time() \n",
        "model.fit(X_train_tfidf, y_train)   \n",
        "print(\"Time taken to build the model\", time.process_time() - start)"
      ],
      "metadata": {
        "colab": {
          "base_uri": "https://localhost:8080/"
        },
        "outputId": "a04a1719-4a1a-4c64-f615-fad86fe6570a",
        "id": "b_LBylIgotP3"
      },
      "execution_count": 196,
      "outputs": [
        {
          "output_type": "stream",
          "name": "stdout",
          "text": [
            "Time taken to build the model 0.0259381789999793\n"
          ]
        }
      ]
    }
  ]
}